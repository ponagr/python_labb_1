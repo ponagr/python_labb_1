{
 "cells": [
  {
   "cell_type": "markdown",
   "metadata": {},
   "source": [
    "# Task 1\n",
    "**You are given several simplified sequences of DNA codes*. Your task is to count the number of different DNA letters in each sequence. In reality, this is an essential step for scientists to understand the genetic information from the human cell**. Following the instructions below:**\n",
    "- read the text file called *dna_raw.txt*\n",
    "    - each sequene is composed of two lines of data: the first line beginning with > sign is the sequence ID, while the following line is the actual sequence\n",
    "    - the actual sequence is not case-sensitive, which means that lower and upper case letters are treated the same\n",
    "- for each sequence, create a dictionary to count the number of each DNA letter in that sequence\n",
    "- for each sequence, graph the frequency of DNA letters for each sequence"
   ]
  },
  {
   "cell_type": "code",
   "execution_count": 3,
   "metadata": {},
   "outputs": [
    {
     "name": "stdout",
     "output_type": "stream",
     "text": [
      ">seq1\n",
      "cGTAaccaataaaaaaacaagcttaacctaattc\n",
      ">seq2\n",
      "agcttagTTTGGatctggccgggg\n",
      ">seq3\n",
      "gcggatttactcCCCCCAAAAANNaggggagagcccagataaatggagtctgtgcgtccaca\n",
      ">seq4\n",
      "gcggatttactcaggggagagcccagGGataaatggagtctgtgcgtccaca\n"
     ]
    }
   ],
   "source": [
    "# read file, save in variable\n",
    "with open(\"dna_raw.txt\", \"r\") as file:\n",
    "    dna_text = file.read()\n",
    "    \n",
    "print(dna_text)"
   ]
  },
  {
   "cell_type": "code",
   "execution_count": null,
   "metadata": {},
   "outputs": [
    {
     "data": {
      "text/plain": [
       "[{'ID': 'seq1', 'dna sequence': 'cgtaaccaataaaaaaacaagcttaacctaattc'},\n",
       " {'ID': 'seq2', 'dna sequence': 'agcttagtttggatctggccgggg'},\n",
       " {'ID': 'seq3',\n",
       "  'dna sequence': 'gcggatttactccccccaaaaannaggggagagcccagataaatggagtctgtgcgtccaca'},\n",
       " {'ID': 'seq4',\n",
       "  'dna sequence': 'gcggatttactcaggggagagcccagggataaatggagtctgtgcgtccaca'}]"
      ]
     },
     "execution_count": 40,
     "metadata": {},
     "output_type": "execute_result"
    }
   ],
   "source": [
    "# separate string into dictionarys, if element is not empty\n",
    "dna_list = [seq.lower().strip() for seq in dna_text.split(\">\") if seq]\n",
    "\n",
    "# dna_list = []\n",
    "# for row in dna_text.split(\">\"):\n",
    "#     if row:     #Om row innehåller något, lägg till, annars gå vidare till nästa element\n",
    "#         dna_list.append(row)\n",
    "\n",
    "dict_list = []\n",
    "\n",
    "\n",
    "for row in dna_list:\n",
    "    parts = row.split()\n",
    "    dna_dict = {\n",
    "        \"ID\": parts[0],\n",
    "        \"dna sequence\": parts[1]\n",
    "    }\n",
    "    dict_list.append(dna_dict)\n",
    "    \n",
    "\n",
    "dict_list\n"
   ]
  }
 ],
 "metadata": {
  "kernelspec": {
   "display_name": ".venv",
   "language": "python",
   "name": "python3"
  },
  "language_info": {
   "codemirror_mode": {
    "name": "ipython",
    "version": 3
   },
   "file_extension": ".py",
   "mimetype": "text/x-python",
   "name": "python",
   "nbconvert_exporter": "python",
   "pygments_lexer": "ipython3",
   "version": "3.12.8"
  }
 },
 "nbformat": 4,
 "nbformat_minor": 2
}
